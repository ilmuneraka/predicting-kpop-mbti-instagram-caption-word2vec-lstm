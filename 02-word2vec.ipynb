{
 "cells": [
  {
   "cell_type": "code",
   "execution_count": 1,
   "metadata": {},
   "outputs": [],
   "source": [
    "import pandas as pd"
   ]
  },
  {
   "cell_type": "code",
   "execution_count": 2,
   "metadata": {},
   "outputs": [],
   "source": [
    "import numpy as np"
   ]
  },
  {
   "cell_type": "code",
   "execution_count": 11,
   "metadata": {},
   "outputs": [],
   "source": [
    "import seaborn as sns"
   ]
  },
  {
   "cell_type": "code",
   "execution_count": 12,
   "metadata": {},
   "outputs": [],
   "source": [
    "import matplotlib.pyplot as plt"
   ]
  },
  {
   "cell_type": "code",
   "execution_count": 26,
   "metadata": {},
   "outputs": [],
   "source": [
    "# Word2vec\n",
    "import gensim\n"
   ]
  },
  {
   "cell_type": "code",
   "execution_count": 3,
   "metadata": {},
   "outputs": [],
   "source": [
    "df = pd.read_csv('data_tambahan_cleaned.csv')"
   ]
  },
  {
   "cell_type": "code",
   "execution_count": 4,
   "metadata": {},
   "outputs": [],
   "source": [
    "df_2 = pd.read_csv('df_lama_ne.csv')"
   ]
  },
  {
   "cell_type": "code",
   "execution_count": 5,
   "metadata": {},
   "outputs": [],
   "source": [
    "df = pd.concat([df, df_2])"
   ]
  },
  {
   "cell_type": "code",
   "execution_count": 6,
   "metadata": {},
   "outputs": [],
   "source": [
    "df.reset_index(drop=True, inplace=True)"
   ]
  },
  {
   "cell_type": "code",
   "execution_count": 7,
   "metadata": {},
   "outputs": [
    {
     "data": {
      "text/plain": [
       "(100533, 3)"
      ]
     },
     "execution_count": 7,
     "metadata": {},
     "output_type": "execute_result"
    }
   ],
   "source": [
    "df.shape"
   ]
  },
  {
   "cell_type": "code",
   "execution_count": 8,
   "metadata": {},
   "outputs": [
    {
     "data": {
      "text/html": [
       "<div>\n",
       "<style scoped>\n",
       "    .dataframe tbody tr th:only-of-type {\n",
       "        vertical-align: middle;\n",
       "    }\n",
       "\n",
       "    .dataframe tbody tr th {\n",
       "        vertical-align: top;\n",
       "    }\n",
       "\n",
       "    .dataframe thead th {\n",
       "        text-align: right;\n",
       "    }\n",
       "</style>\n",
       "<table border=\"1\" class=\"dataframe\">\n",
       "  <thead>\n",
       "    <tr style=\"text-align: right;\">\n",
       "      <th></th>\n",
       "      <th>translation</th>\n",
       "      <th>user</th>\n",
       "      <th>mbti</th>\n",
       "    </tr>\n",
       "  </thead>\n",
       "  <tbody>\n",
       "    <tr>\n",
       "      <th>0</th>\n",
       "      <td>tonight</td>\n",
       "      <td>w_n_r00</td>\n",
       "      <td>ESFP</td>\n",
       "    </tr>\n",
       "    <tr>\n",
       "      <th>1</th>\n",
       "      <td>love seoul</td>\n",
       "      <td>w_n_r00</td>\n",
       "      <td>ESFP</td>\n",
       "    </tr>\n",
       "    <tr>\n",
       "      <th>2</th>\n",
       "      <td>c n ng l 3 ng th h h c c ch c ch n tr l u n</td>\n",
       "      <td>w_n_r00</td>\n",
       "      <td>ESFP</td>\n",
       "    </tr>\n",
       "    <tr>\n",
       "      <th>3</th>\n",
       "      <td>love vietnam much</td>\n",
       "      <td>w_n_r00</td>\n",
       "      <td>ESFP</td>\n",
       "    </tr>\n",
       "    <tr>\n",
       "      <th>4</th>\n",
       "      <td>thank 9 year since became winner team 9 year f...</td>\n",
       "      <td>w_n_r00</td>\n",
       "      <td>ESFP</td>\n",
       "    </tr>\n",
       "  </tbody>\n",
       "</table>\n",
       "</div>"
      ],
      "text/plain": [
       "                                         translation     user  mbti\n",
       "0                                            tonight  w_n_r00  ESFP\n",
       "1                                         love seoul  w_n_r00  ESFP\n",
       "2        c n ng l 3 ng th h h c c ch c ch n tr l u n  w_n_r00  ESFP\n",
       "3                                  love vietnam much  w_n_r00  ESFP\n",
       "4  thank 9 year since became winner team 9 year f...  w_n_r00  ESFP"
      ]
     },
     "execution_count": 8,
     "metadata": {},
     "output_type": "execute_result"
    }
   ],
   "source": [
    "df.head()"
   ]
  },
  {
   "cell_type": "code",
   "execution_count": 15,
   "metadata": {},
   "outputs": [],
   "source": [
    "df['EI'] = df['mbti'].str[0]\n",
    "df['NS'] = df['mbti'].str[1]\n",
    "df['FT'] = df['mbti'].str[2]\n",
    "df['JP'] = df['mbti'].str[3]"
   ]
  },
  {
   "cell_type": "code",
   "execution_count": 9,
   "metadata": {},
   "outputs": [
    {
     "data": {
      "text/plain": [
       "(100533, 3)"
      ]
     },
     "execution_count": 9,
     "metadata": {},
     "output_type": "execute_result"
    }
   ],
   "source": [
    "df.drop_duplicates().shape"
   ]
  },
  {
   "cell_type": "code",
   "execution_count": 13,
   "metadata": {},
   "outputs": [
    {
     "data": {
      "image/png": "[encoded data removed]",
      "text/plain": [
       "<Figure size 360x576 with 1 Axes>"
      ]
     },
     "metadata": {
      "needs_background": "light"
     },
     "output_type": "display_data"
    }
   ],
   "source": [
    "plt.subplots(figsize=(5, 8))\n",
    "ax = sns.countplot(y=\"mbti\", data=df, palette=(\"Greys_r_d\"),\n",
    "              order=df['mbti'].value_counts().index)\n",
    "\n",
    "ax.set_title(\"Jumlah Caption per MBTI\")\n",
    "abs_values = df['mbti'].value_counts(ascending=False).values\n",
    "\n",
    "ax.bar_label(container=ax.containers[0], labels=abs_values)\n",
    "\n",
    "plt.show()"
   ]
  },
  {
   "cell_type": "code",
   "execution_count": 14,
   "metadata": {},
   "outputs": [
    {
     "data": {
      "image/png": "[encoded data removed]",
      "text/plain": [
       "<Figure size 360x576 with 1 Axes>"
      ]
     },
     "metadata": {
      "needs_background": "light"
     },
     "output_type": "display_data"
    }
   ],
   "source": [
    "plt.subplots(figsize=(5, 8))\n",
    "ax = sns.countplot(y=\"mbti\", data=df, palette=(\"Greys_r_d\"),\n",
    "              order=df['mbti'].value_counts().index)\n",
    "\n",
    "ax.set_title(\"Jumlah Caption per MBTI\")\n",
    "abs_values = df['mbti'].value_counts(ascending=False).values/df.shape[0]*100\n",
    "\n",
    "ax.bar_label(container=ax.containers[0], labels=abs_values)\n",
    "\n",
    "plt.show()"
   ]
  },
  {
   "cell_type": "code",
   "execution_count": 17,
   "metadata": {},
   "outputs": [
    {
     "data": {
      "image/png": "[encoded data removed]",
      "text/plain": [
       "<Figure size 576x504 with 1 Axes>"
      ]
     },
     "metadata": {
      "needs_background": "light"
     },
     "output_type": "display_data"
    }
   ],
   "source": [
    "import pandas as pd\n",
    "import numpy as np\n",
    "import matplotlib.pyplot as plt\n",
    "\n",
    "# create dataframe\n",
    "df_chart = pd.DataFrame({'J': [len(df[df['JP'] == 'J']), np.nan, np.nan, np.nan],\n",
    "                   'P': [len(df[df['JP'] == 'P']), np.nan, np.nan, np.nan],\n",
    "                   'F': [np.nan, len(df[df['FT'] == 'F']), np.nan, np.nan],\n",
    "                   'T': [np.nan, len(df[df['FT'] == 'T']), np.nan, np.nan],\n",
    "                   'N': [np.nan, np.nan, len(df[df['NS'] == 'N']), np.nan],\n",
    "                   'S': [np.nan, np.nan, len(df[df['NS'] == 'S']), np.nan],\n",
    "                   'E': [np.nan, np.nan, np.nan, len(df[df['EI'] == 'E'])],\n",
    "                   'I': [np.nan, np.nan, np.nan, len(df[df['EI'] == 'I'])]},\n",
    "                  index=['Judging/Perceiving', 'Feeling/Thinking', 'Intuition/Sensing', 'Extroversion/Introversion'])\n",
    "\n",
    "\n",
    "# plot dataframe\n",
    "ax = df_chart.plot.barh(title=\"MBTI Captions Breakdown by Category\",\n",
    "                  legend=False,\n",
    "                  figsize=(8,7), stacked=True)\n",
    "\n",
    "labels = []\n",
    "for j in df_chart.columns:\n",
    "    for i in df_chart.index:\n",
    "        label = str(j)+\": \" + str(df_chart.loc[i][j])\n",
    "        labels.append(label)\n",
    "\n",
    "patches = ax.patches\n",
    "\n",
    "for label, rect in zip(labels, patches):\n",
    "    width = rect.get_width()\n",
    "    if width > 0:\n",
    "        x = rect.get_x()\n",
    "        y = rect.get_y()\n",
    "        height = rect.get_height()\n",
    "        ax.text(x + width/2., y + height/2., label, ha='center', va='center', color='white')"
   ]
  },
  {
   "cell_type": "code",
   "execution_count": 18,
   "metadata": {},
   "outputs": [
    {
     "data": {
      "image/png": "[encoded data removed]",
      "text/plain": [
       "<Figure size 360x288 with 1 Axes>"
      ]
     },
     "metadata": {
      "needs_background": "light"
     },
     "output_type": "display_data"
    }
   ],
   "source": [
    "plt.subplots(figsize=(5, 4))\n",
    "ax = sns.countplot(y=\"user\", data=df, palette=(\"Greys_r_d\"),\n",
    "              order=df['user'].value_counts().iloc[:5].index)\n",
    "\n",
    "ax.set_title(\"5 Artis K-Pop dengan Caption Terbanyak\")\n",
    "abs_values = df['user'].value_counts(ascending=False).iloc[:5].values\n",
    "\n",
    "ax.bar_label(container=ax.containers[0], labels=abs_values)\n",
    "\n",
    "plt.show()"
   ]
  },
  {
   "cell_type": "code",
   "execution_count": 19,
   "metadata": {},
   "outputs": [
    {
     "data": {
      "text/html": [
       "<div>\n",
       "<style scoped>\n",
       "    .dataframe tbody tr th:only-of-type {\n",
       "        vertical-align: middle;\n",
       "    }\n",
       "\n",
       "    .dataframe tbody tr th {\n",
       "        vertical-align: top;\n",
       "    }\n",
       "\n",
       "    .dataframe thead th {\n",
       "        text-align: right;\n",
       "    }\n",
       "</style>\n",
       "<table border=\"1\" class=\"dataframe\">\n",
       "  <thead>\n",
       "    <tr style=\"text-align: right;\">\n",
       "      <th></th>\n",
       "      <th>translation</th>\n",
       "      <th>user</th>\n",
       "      <th>mbti</th>\n",
       "      <th>EI</th>\n",
       "      <th>NS</th>\n",
       "      <th>FT</th>\n",
       "      <th>JP</th>\n",
       "    </tr>\n",
       "  </thead>\n",
       "  <tbody>\n",
       "    <tr>\n",
       "      <th>77578</th>\n",
       "      <td>chung ha 2nd studio album bare rare pt 1 chung...</td>\n",
       "      <td>chungha_official</td>\n",
       "      <td>ISFP</td>\n",
       "      <td>I</td>\n",
       "      <td>S</td>\n",
       "      <td>F</td>\n",
       "      <td>P</td>\n",
       "    </tr>\n",
       "    <tr>\n",
       "      <th>77579</th>\n",
       "      <td>chung ha 2nd studio album bare rare pt 1</td>\n",
       "      <td>chungha_official</td>\n",
       "      <td>ISFP</td>\n",
       "      <td>I</td>\n",
       "      <td>S</td>\n",
       "      <td>F</td>\n",
       "      <td>P</td>\n",
       "    </tr>\n",
       "    <tr>\n",
       "      <th>77580</th>\n",
       "      <td>chung ha 2nd studio album bare rare pt 1 http ...</td>\n",
       "      <td>chungha_official</td>\n",
       "      <td>ISFP</td>\n",
       "      <td>I</td>\n",
       "      <td>S</td>\n",
       "      <td>F</td>\n",
       "      <td>P</td>\n",
       "    </tr>\n",
       "    <tr>\n",
       "      <th>77581</th>\n",
       "      <td>much fun thank jestina estina official estinab...</td>\n",
       "      <td>chungha_official</td>\n",
       "      <td>ISFP</td>\n",
       "      <td>I</td>\n",
       "      <td>S</td>\n",
       "      <td>F</td>\n",
       "      <td>P</td>\n",
       "    </tr>\n",
       "    <tr>\n",
       "      <th>77582</th>\n",
       "      <td>joy movement fusalp thank</td>\n",
       "      <td>chungha_official</td>\n",
       "      <td>ISFP</td>\n",
       "      <td>I</td>\n",
       "      <td>S</td>\n",
       "      <td>F</td>\n",
       "      <td>P</td>\n",
       "    </tr>\n",
       "    <tr>\n",
       "      <th>...</th>\n",
       "      <td>...</td>\n",
       "      <td>...</td>\n",
       "      <td>...</td>\n",
       "      <td>...</td>\n",
       "      <td>...</td>\n",
       "      <td>...</td>\n",
       "      <td>...</td>\n",
       "    </tr>\n",
       "    <tr>\n",
       "      <th>79117</th>\n",
       "      <td>cheongha chungha 1st mini album hand highlight...</td>\n",
       "      <td>chungha_official</td>\n",
       "      <td>ISFP</td>\n",
       "      <td>I</td>\n",
       "      <td>S</td>\n",
       "      <td>F</td>\n",
       "      <td>P</td>\n",
       "    </tr>\n",
       "    <tr>\n",
       "      <th>79118</th>\n",
       "      <td>cheongha chungha know music video teaser 1</td>\n",
       "      <td>chungha_official</td>\n",
       "      <td>ISFP</td>\n",
       "      <td>I</td>\n",
       "      <td>S</td>\n",
       "      <td>F</td>\n",
       "      <td>P</td>\n",
       "    </tr>\n",
       "    <tr>\n",
       "      <th>79119</th>\n",
       "      <td>chungha 1st mini album hand photo teaser 2</td>\n",
       "      <td>chungha_official</td>\n",
       "      <td>ISFP</td>\n",
       "      <td>I</td>\n",
       "      <td>S</td>\n",
       "      <td>F</td>\n",
       "      <td>P</td>\n",
       "    </tr>\n",
       "    <tr>\n",
       "      <th>79120</th>\n",
       "      <td>chungha 1st mini album hand track list</td>\n",
       "      <td>chungha_official</td>\n",
       "      <td>ISFP</td>\n",
       "      <td>I</td>\n",
       "      <td>S</td>\n",
       "      <td>F</td>\n",
       "      <td>P</td>\n",
       "    </tr>\n",
       "    <tr>\n",
       "      <th>79121</th>\n",
       "      <td>chungha 1st mini album hand photo teaser 1</td>\n",
       "      <td>chungha_official</td>\n",
       "      <td>ISFP</td>\n",
       "      <td>I</td>\n",
       "      <td>S</td>\n",
       "      <td>F</td>\n",
       "      <td>P</td>\n",
       "    </tr>\n",
       "  </tbody>\n",
       "</table>\n",
       "<p>1544 rows × 7 columns</p>\n",
       "</div>"
      ],
      "text/plain": [
       "                                             translation              user  \\\n",
       "77578  chung ha 2nd studio album bare rare pt 1 chung...  chungha_official   \n",
       "77579           chung ha 2nd studio album bare rare pt 1  chungha_official   \n",
       "77580  chung ha 2nd studio album bare rare pt 1 http ...  chungha_official   \n",
       "77581  much fun thank jestina estina official estinab...  chungha_official   \n",
       "77582                          joy movement fusalp thank  chungha_official   \n",
       "...                                                  ...               ...   \n",
       "79117  cheongha chungha 1st mini album hand highlight...  chungha_official   \n",
       "79118         cheongha chungha know music video teaser 1  chungha_official   \n",
       "79119         chungha 1st mini album hand photo teaser 2  chungha_official   \n",
       "79120             chungha 1st mini album hand track list  chungha_official   \n",
       "79121         chungha 1st mini album hand photo teaser 1  chungha_official   \n",
       "\n",
       "       mbti EI NS FT JP  \n",
       "77578  ISFP  I  S  F  P  \n",
       "77579  ISFP  I  S  F  P  \n",
       "77580  ISFP  I  S  F  P  \n",
       "77581  ISFP  I  S  F  P  \n",
       "77582  ISFP  I  S  F  P  \n",
       "...     ... .. .. .. ..  \n",
       "79117  ISFP  I  S  F  P  \n",
       "79118  ISFP  I  S  F  P  \n",
       "79119  ISFP  I  S  F  P  \n",
       "79120  ISFP  I  S  F  P  \n",
       "79121  ISFP  I  S  F  P  \n",
       "\n",
       "[1544 rows x 7 columns]"
      ]
     },
     "execution_count": 19,
     "metadata": {},
     "output_type": "execute_result"
    }
   ],
   "source": [
    "df[df['user']=='chungha_official']"
   ]
  },
  {
   "cell_type": "code",
   "execution_count": 20,
   "metadata": {},
   "outputs": [],
   "source": [
    "# WORD2VEC \n",
    "W2V_SIZE = 300\n",
    "W2V_WINDOW = 7\n",
    "W2V_EPOCH = 32\n",
    "W2V_MIN_COUNT = 10\n",
    "\n",
    "# Keras\n",
    "from keras.preprocessing.text import Tokenizer\n",
    "from keras_preprocessing.sequence import pad_sequences\n",
    "from keras.models import Sequential\n",
    "from keras.layers import Activation, Dense, Dropout, Embedding, Flatten, Conv1D, MaxPooling1D, LSTM\n",
    "from keras import utils\n",
    "from keras.callbacks import ReduceLROnPlateau, EarlyStopping\n",
    "\n",
    "SEQUENCE_LENGTH = [50, 100, 200, 300]"
   ]
  },
  {
   "cell_type": "code",
   "execution_count": 21,
   "metadata": {},
   "outputs": [],
   "source": [
    "# Scikit-learn\n",
    "from sklearn.model_selection import train_test_split\n",
    "from sklearn.metrics import confusion_matrix, classification_report, accuracy_score"
   ]
  },
  {
   "cell_type": "code",
   "execution_count": 22,
   "metadata": {},
   "outputs": [
    {
     "name": "stdout",
     "output_type": "stream",
     "text": [
      "TRAIN size: 80426\n",
      "TEST size: 20107\n"
     ]
    }
   ],
   "source": [
    "df['translation']=df['translation'].astype(str)\n",
    "\n",
    "df_train, df_test = train_test_split(df, test_size=0.2, random_state=42)\n",
    "print(\"TRAIN size:\", len(df_train))\n",
    "print(\"TEST size:\", len(df_test))"
   ]
  },
  {
   "cell_type": "code",
   "execution_count": 23,
   "metadata": {},
   "outputs": [
    {
     "name": "stdout",
     "output_type": "stream",
     "text": [
      "Wall time: 201 ms\n"
     ]
    }
   ],
   "source": [
    "%%time\n",
    "documents = [_text.split() for _text in df_train.translation] "
   ]
  },
  {
   "cell_type": "code",
   "execution_count": 24,
   "metadata": {},
   "outputs": [],
   "source": [
    "w2v_models={}"
   ]
  },
  {
   "cell_type": "code",
   "execution_count": 29,
   "metadata": {},
   "outputs": [
    {
     "name": "stdout",
     "output_type": "stream",
     "text": [
      "Wall time: 43.1 s\n"
     ]
    }
   ],
   "source": [
    "%%time\n",
    "for i in [50, 100, 200, 300]:\n",
    "    w2v_models[i] = gensim.models.word2vec.Word2Vec(vector_size=i, \n",
    "                                            window=W2V_WINDOW, \n",
    "                                            min_count=W2V_MIN_COUNT, \n",
    "                                            workers=8)\n",
    "    w2v_models[i].build_vocab(documents)\n",
    "    w2v_models[i].train(documents, total_examples=len(documents), epochs=W2V_EPOCH)"
   ]
  },
  {
   "cell_type": "code",
   "execution_count": 43,
   "metadata": {},
   "outputs": [
    {
     "name": "stdout",
     "output_type": "stream",
     "text": [
      "Kata yang mirip dengan 'jeju'\n",
      "Model Word2Vec dengan dimensi 50\n",
      "[('island', 0.8645195960998535), ('tower', 0.6273694634437561), ('travel', 0.6015500426292419)]\n",
      "Model Word2Vec dengan dimensi 100\n",
      "[('island', 0.7553439140319824), ('travel', 0.5343033671379089), ('sea', 0.48532769083976746)]\n",
      "Model Word2Vec dengan dimensi 200\n",
      "[('island', 0.7377963662147522), ('sea', 0.5328781604766846), ('seaweed', 0.4613155722618103)]\n",
      "Model Word2Vec dengan dimensi 300\n",
      "[('island', 0.7232010960578918), ('sea', 0.47694095969200134), ('ash', 0.422532320022583)]\n"
     ]
    }
   ],
   "source": [
    "print('Kata yang mirip dengan \\'jeju\\'')\n",
    "for i in [50, 100, 200, 300]:\n",
    "    print('Model Word2Vec dengan dimensi {0}'.format(i))\n",
    "    print(w2v_models[i].wv.most_similar('jeju', topn=3))"
   ]
  },
  {
   "cell_type": "code",
   "execution_count": 45,
   "metadata": {},
   "outputs": [
    {
     "name": "stdout",
     "output_type": "stream",
     "text": [
      "Kata yang mirip dengan 'seoul'\n",
      "Model Word2Vec dengan dimensi 50\n",
      "[('hyundai', 0.702468991279602), ('itaewon', 0.6721617579460144), ('held', 0.6634047627449036)]\n",
      "Model Word2Vec dengan dimensi 100\n",
      "[('mapo', 0.6384389996528625), ('hyundai', 0.61864173412323), ('held', 0.5758407711982727)]\n",
      "Model Word2Vec dengan dimensi 200\n",
      "[('mapo', 0.5783994197845459), ('hyundai', 0.538345456123352), ('held', 0.48671871423721313)]\n",
      "Model Word2Vec dengan dimensi 300\n",
      "[('mapo', 0.5523377060890198), ('hyundai', 0.5490394830703735), ('held', 0.5052875876426697)]\n"
     ]
    }
   ],
   "source": [
    "print('Kata yang mirip dengan \\'seoul\\'')\n",
    "for i in [50, 100, 200, 300]:\n",
    "    print('Model Word2Vec dengan dimensi {0}'.format(i))\n",
    "    print(w2v_models[i].wv.most_similar('seoul', topn=3))"
   ]
  },
  {
   "cell_type": "code",
   "execution_count": 41,
   "metadata": {},
   "outputs": [
    {
     "data": {
      "text/plain": [
       "[('island', 0.8645195960998535),\n",
       " ('tower', 0.6273694634437561),\n",
       " ('travel', 0.6015500426292419)]"
      ]
     },
     "execution_count": 41,
     "metadata": {},
     "output_type": "execute_result"
    }
   ],
   "source": [
    "w2v_models[50].wv.most_similar('jeju', topn=3)"
   ]
  },
  {
   "cell_type": "code",
   "execution_count": 33,
   "metadata": {},
   "outputs": [
    {
     "data": {
      "text/plain": [
       "[('younger', 0.6411949992179871),\n",
       " ('youngest', 0.4952949285507202),\n",
       " ('hyung', 0.4542354345321655),\n",
       " ('sister', 0.4217952787876129),\n",
       " ('wook', 0.419927179813385),\n",
       " ('beloved', 0.4061117470264435),\n",
       " ('eldest', 0.39889955520629883),\n",
       " ('cheered', 0.3983571529388428),\n",
       " ('jinwoo', 0.36930179595947266),\n",
       " ('jungle', 0.3657967150211334)]"
      ]
     },
     "execution_count": 33,
     "metadata": {},
     "output_type": "execute_result"
    }
   ],
   "source": [
    "w2v_models[100].wv.most_similar('brother')"
   ]
  },
  {
   "cell_type": "code",
   "execution_count": 34,
   "metadata": {},
   "outputs": [
    {
     "data": {
      "text/plain": [
       "[('younger', 0.5292144417762756),\n",
       " ('hyung', 0.41338130831718445),\n",
       " ('youngest', 0.36497509479522705),\n",
       " ('senior', 0.3625899851322174),\n",
       " ('wook', 0.3574250638484955),\n",
       " ('ferry', 0.3458233177661896),\n",
       " ('law', 0.34338030219078064),\n",
       " ('appear', 0.3385172188282013),\n",
       " ('hoon', 0.3333868980407715),\n",
       " ('byung', 0.3280768096446991)]"
      ]
     },
     "execution_count": 34,
     "metadata": {},
     "output_type": "execute_result"
    }
   ],
   "source": [
    "w2v_models[200].wv.most_similar('brother')"
   ]
  }
 ],
 "metadata": {
  "kernelspec": {
   "display_name": "Python 3",
   "language": "python",
   "name": "python3"
  },
  "language_info": {
   "codemirror_mode": {
    "name": "ipython",
    "version": 3
   },
   "file_extension": ".py",
   "mimetype": "text/x-python",
   "name": "python",
   "nbconvert_exporter": "python",
   "pygments_lexer": "ipython3",
   "version": "3.8.5"
  }
 },
 "nbformat": 4,
 "nbformat_minor": 4
}
